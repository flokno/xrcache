{
 "cells": [
  {
   "cell_type": "code",
   "execution_count": 1,
   "metadata": {},
   "outputs": [],
   "source": [
    "import numpy as np\n",
    "import scipy.integrate as si\n",
    "import xarray as xr\n",
    "import xrcache as xc"
   ]
  },
  {
   "cell_type": "code",
   "execution_count": 2,
   "metadata": {},
   "outputs": [
    {
     "data": {
      "text/plain": [
       "<xarray.DataArray 'some_array' (x: 10)>\n",
       "array([ 0.      ,  0.841471,  0.909297,  0.14112 , -0.756802, -0.958924,\n",
       "       -0.279415,  0.656987,  0.989358,  0.412118])\n",
       "Coordinates:\n",
       "  * x        (x) int64 0 1 2 3 4 5 6 7 8 9\n",
       "Attributes:\n",
       "    hash:     040a8e4bb7f8cbfc196f77b7243a95819e09c3d2"
      ]
     },
     "execution_count": 2,
     "metadata": {},
     "output_type": "execute_result"
    }
   ],
   "source": [
    "# Input dataarray\n",
    "\n",
    "x = np.arange(10)\n",
    "y = np.sin(x)\n",
    "\n",
    "# initial hash\n",
    "h = xc.get_hash(np.array([x, y]))\n",
    "\n",
    "da = xr.DataArray(y, dims=\"x\", coords={\"x\": x}, name=\"some_array\")\n",
    "da.attrs.update({xc.keys.hash: h})\n",
    "da"
   ]
  },
  {
   "cell_type": "code",
   "execution_count": 3,
   "metadata": {},
   "outputs": [
    {
     "name": "stdout",
     "output_type": "stream",
     "text": [
      "Store array to cache/some_array__cumtrapz__368.nc\n",
      "Update cache/hash.json\n"
     ]
    },
    {
     "data": {
      "text/plain": [
       "'{\"array_name\": \"some_array\", \"function_signature\": {\"__name__\": \"cumtrapz\", \"array\": null, \"dx\": 1.0, \"axis\": 0, \"__type__\": \"<class \\'xarray.core.dataarray.DataArray\\'>\"}, \"hash_input\": \"040a8e4bb7f8cbfc196f77b7243a95819e09c3d2\"}'"
      ]
     },
     "execution_count": 3,
     "metadata": {},
     "output_type": "execute_result"
    }
   ],
   "source": [
    "# function that performs integration on the data\n",
    "@xc.cached(verbose=True)\n",
    "def cumtrapz(array: xr.DataArray, dx: float = 1.0, axis: int = 0):\n",
    "    \"\"\"perform trapz on array and return\"\"\"\n",
    "    y = np.asarray(array)\n",
    "    x = np.asarray(array.coords[array.dims[0]])\n",
    "    i = si.cumtrapz(y, x=x, dx=dx, axis=axis, initial=0)\n",
    "\n",
    "    # create dataarray\n",
    "    da = xr.DataArray(i, dims=array.dims, coords=array.coords, attrs=array.attrs)\n",
    "\n",
    "    return da\n",
    "\n",
    "\n",
    "cumtrapz(da).attrs['xrcache_signature']"
   ]
  },
  {
   "cell_type": "code",
   "execution_count": 4,
   "metadata": {},
   "outputs": [
    {
     "name": "stdout",
     "output_type": "stream",
     "text": [
      "Return stored DataArray from cache/some_array__cumtrapz__368.nc\n"
     ]
    },
    {
     "data": {
      "text/plain": [
       "<xarray.DataArray (x: 10)>\n",
       "array([0.      , 0.420735, 1.29612 , 1.821328, 1.513487, 0.655624, 0.036454,\n",
       "       0.225239, 1.048412, 1.74915 ])\n",
       "Coordinates:\n",
       "  * x        (x) int64 0 1 2 3 4 5 6 7 8 9\n",
       "Attributes:\n",
       "    hash:               3686fb970eb610f0e9d5723fe1197a62d0b7140d\n",
       "    xrcache_signature:  {\"array_name\": \"some_array\", \"function_signature\": {\"..."
      ]
     },
     "execution_count": 4,
     "metadata": {},
     "output_type": "execute_result"
    }
   ],
   "source": [
    "cumtrapz(da)"
   ]
  },
  {
   "cell_type": "code",
   "execution_count": 5,
   "metadata": {},
   "outputs": [
    {
     "name": "stdout",
     "output_type": "stream",
     "text": [
      "** Caching is deactivated, call function verbatim.\n"
     ]
    },
    {
     "data": {
      "text/plain": [
       "<xarray.DataArray (x: 10)>\n",
       "array([0.      , 0.420735, 1.29612 , 1.821328, 1.513487, 0.655624, 0.036454,\n",
       "       0.225239, 1.048412, 1.74915 ])\n",
       "Coordinates:\n",
       "  * x        (x) int64 0 1 2 3 4 5 6 7 8 9\n",
       "Attributes:\n",
       "    hash:     040a8e4bb7f8cbfc196f77b7243a95819e09c3d2"
      ]
     },
     "execution_count": 5,
     "metadata": {},
     "output_type": "execute_result"
    }
   ],
   "source": [
    "cumtrapz(da, cache=False)"
   ]
  },
  {
   "cell_type": "code",
   "execution_count": 6,
   "metadata": {},
   "outputs": [],
   "source": [
    "def stupid_function(array=None):\n",
    "    array = array.copy()\n",
    "    for i, x in enumerate(array):\n",
    "        for j, y in enumerate(array):\n",
    "            array[i] += i + y\n",
    "    return array\n",
    "\n",
    "\n",
    "@xc.cached\n",
    "def cached_stupid_function(array=None):\n",
    "    return stupid_function(array)"
   ]
  },
  {
   "cell_type": "code",
   "execution_count": 7,
   "metadata": {},
   "outputs": [
    {
     "name": "stdout",
     "output_type": "stream",
     "text": [
      "92.9 ms ± 10.3 ms per loop (mean ± std. dev. of 7 runs, 10 loops each)\n"
     ]
    }
   ],
   "source": [
    "%%timeit\n",
    "stupid_function(da)"
   ]
  },
  {
   "cell_type": "code",
   "execution_count": 8,
   "metadata": {},
   "outputs": [
    {
     "name": "stdout",
     "output_type": "stream",
     "text": [
      "1.66 ms ± 134 µs per loop (mean ± std. dev. of 7 runs, 100 loops each)\n"
     ]
    }
   ],
   "source": [
    "%%timeit\n",
    "cached_stupid_function(da)"
   ]
  },
  {
   "cell_type": "code",
   "execution_count": null,
   "metadata": {},
   "outputs": [],
   "source": []
  }
 ],
 "metadata": {
  "kernelspec": {
   "display_name": "Python 3",
   "language": "python",
   "name": "python3"
  },
  "language_info": {
   "codemirror_mode": {
    "name": "ipython",
    "version": 3
   },
   "file_extension": ".py",
   "mimetype": "text/x-python",
   "name": "python",
   "nbconvert_exporter": "python",
   "pygments_lexer": "ipython3",
   "version": "3.7.3"
  }
 },
 "nbformat": 4,
 "nbformat_minor": 2
}
