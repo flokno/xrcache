{
 "cells": [
  {
   "cell_type": "code",
   "execution_count": 1,
   "metadata": {},
   "outputs": [],
   "source": [
    "import numpy as np\n",
    "import scipy.integrate as si\n",
    "import xarray as xr\n",
    "import xrcache as xc"
   ]
  },
  {
   "cell_type": "code",
   "execution_count": 2,
   "metadata": {},
   "outputs": [
    {
     "data": {
      "text/plain": [
       "<xarray.Dataset>\n",
       "Dimensions:  (x: 4)\n",
       "Coordinates:\n",
       "  * x        (x) <U1 'a' 'b' 'c' 'd'\n",
       "Data variables:\n",
       "    bar      (x) int64 1 2 3 4\n",
       "Attributes:\n",
       "    name:     dataset\n",
       "    hash:     1074bd0a31dfaae87e1c96888a19f6589ac77cc2"
      ]
     },
     "execution_count": 2,
     "metadata": {},
     "output_type": "execute_result"
    }
   ],
   "source": [
    "ds = xr.Dataset({\"bar\": (\"x\", [1, 2, 3, 4]), \"x\": list(\"abcd\")})\n",
    "\n",
    "ds.attrs.update({\"name\": \"dataset\"})  # <- name dataset\n",
    "\n",
    "hash_str = xc.get_hash(ds.bar.data)\n",
    "\n",
    "ds.attrs.update({xc.keys.hash: hash_str})\n",
    "\n",
    "ds"
   ]
  },
  {
   "cell_type": "code",
   "execution_count": 3,
   "metadata": {},
   "outputs": [
    {
     "data": {
      "text/plain": [
       "<xarray.Dataset>\n",
       "Dimensions:  (x: 4)\n",
       "Coordinates:\n",
       "  * x        (x) object 'a' 'b' 'c' 'd'\n",
       "Data variables:\n",
       "    bar      (x) int64 1 2 3 4\n",
       "    foo      (x) int64 1 4 9 16\n",
       "Attributes:\n",
       "    dataset_name:       dataset\n",
       "    hash:               e246cfc23dd64dc7d06f54de8dd37c787f7cae74\n",
       "    xrcache_signature:  {\"function_signature\": {\"__name__\": \"some_dataset_fun..."
      ]
     },
     "execution_count": 3,
     "metadata": {},
     "output_type": "execute_result"
    }
   ],
   "source": [
    "@xc.cached\n",
    "def some_dataset_function(dataset: xr.Dataset) -> xr.Dataset:\n",
    "    \"\"\"add square of input\"\"\"\n",
    "    ds = dataset.copy()\n",
    "    result = dataset.bar ** 2\n",
    "    new_ds = ds.update({\"foo\": result})\n",
    "\n",
    "    return new_ds\n",
    "\n",
    "\n",
    "some_dataset_function(ds)"
   ]
  },
  {
   "cell_type": "code",
   "execution_count": 4,
   "metadata": {},
   "outputs": [
    {
     "data": {
      "text/plain": [
       "(True, True)"
      ]
     },
     "execution_count": 4,
     "metadata": {},
     "output_type": "execute_result"
    }
   ],
   "source": [
    "a = some_dataset_function(ds)\n",
    "b = some_dataset_function(ds)\n",
    "\n",
    "a.equals(b), a.attrs == b.attrs"
   ]
  },
  {
   "cell_type": "code",
   "execution_count": null,
   "metadata": {},
   "outputs": [],
   "source": []
  }
 ],
 "metadata": {
  "kernelspec": {
   "display_name": "Python 3",
   "language": "python",
   "name": "python3"
  },
  "language_info": {
   "codemirror_mode": {
    "name": "ipython",
    "version": 3
   },
   "file_extension": ".py",
   "mimetype": "text/x-python",
   "name": "python",
   "nbconvert_exporter": "python",
   "pygments_lexer": "ipython3",
   "version": "3.7.3"
  }
 },
 "nbformat": 4,
 "nbformat_minor": 2
}
